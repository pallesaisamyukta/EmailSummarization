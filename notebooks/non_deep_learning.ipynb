{
 "cells": [
  {
   "cell_type": "markdown",
   "metadata": {},
   "source": [
    "## Import all Required Libraries"
   ]
  },
  {
   "cell_type": "code",
   "execution_count": 2,
   "metadata": {},
   "outputs": [
    {
     "name": "stderr",
     "output_type": "stream",
     "text": [
      "[nltk_data] Downloading package punkt to\n",
      "[nltk_data]     C:\\Users\\samyukta\\AppData\\Roaming\\nltk_data...\n",
      "[nltk_data]   Package punkt is already up-to-date!\n",
      "[nltk_data] Downloading package stopwords to\n",
      "[nltk_data]     C:\\Users\\samyukta\\AppData\\Roaming\\nltk_data...\n",
      "[nltk_data]   Package stopwords is already up-to-date!\n",
      "[nltk_data] Downloading package wordnet to\n",
      "[nltk_data]     C:\\Users\\samyukta\\AppData\\Roaming\\nltk_data...\n",
      "[nltk_data]   Package wordnet is already up-to-date!\n"
     ]
    }
   ],
   "source": [
    "import nltk\n",
    "nltk.download('punkt')\n",
    "nltk.download('stopwords')\n",
    "nltk.download('wordnet')\n",
    "from nltk.tokenize import sent_tokenize, word_tokenize\n",
    "from nltk.corpus import stopwords\n",
    "from nltk.stem import WordNetLemmatizer\n",
    "from sklearn.feature_extraction.text import TfidfVectorizer\n",
    "from sklearn.metrics.pairwise import cosine_similarity\n",
    "import numpy as np\n",
    "import json\n",
    "import pandas as pd"
   ]
  },
  {
   "cell_type": "markdown",
   "metadata": {},
   "source": [
    "## Reading Data & Preprocessing\n",
    "\n",
    "Stop Words & Lemmatization \n"
   ]
  },
  {
   "cell_type": "code",
   "execution_count": 3,
   "metadata": {},
   "outputs": [],
   "source": [
    "# Specify the path to your csv file\n",
    "file_path = \"../data/merged_email_data.csv\"\n",
    "df = pd.read_csv(file_path)"
   ]
  },
  {
   "cell_type": "code",
   "execution_count": 4,
   "metadata": {},
   "outputs": [
    {
     "data": {
      "text/html": [
       "<div>\n",
       "<style scoped>\n",
       "    .dataframe tbody tr th:only-of-type {\n",
       "        vertical-align: middle;\n",
       "    }\n",
       "\n",
       "    .dataframe tbody tr th {\n",
       "        vertical-align: top;\n",
       "    }\n",
       "\n",
       "    .dataframe thead th {\n",
       "        text-align: right;\n",
       "    }\n",
       "</style>\n",
       "<table border=\"1\" class=\"dataframe\">\n",
       "  <thead>\n",
       "    <tr style=\"text-align: right;\">\n",
       "      <th></th>\n",
       "      <th>thread_id</th>\n",
       "      <th>summary</th>\n",
       "      <th>subject</th>\n",
       "      <th>timestamp</th>\n",
       "      <th>from</th>\n",
       "      <th>to</th>\n",
       "      <th>body</th>\n",
       "    </tr>\n",
       "  </thead>\n",
       "  <tbody>\n",
       "    <tr>\n",
       "      <th>0</th>\n",
       "      <td>1</td>\n",
       "      <td>The email thread discusses the Master Terminat...</td>\n",
       "      <td>FW: Master Termination Log</td>\n",
       "      <td>2002-01-29 11:23:42</td>\n",
       "      <td>Gossett, Jeffrey C. JGOSSET</td>\n",
       "      <td>['Giron', 'Darron C. Dgiron', 'Love', 'Phillip...</td>\n",
       "      <td>\\r\\n\\r\\n -----Original Message-----\\r\\nFrom: =...</td>\n",
       "    </tr>\n",
       "    <tr>\n",
       "      <th>1</th>\n",
       "      <td>1</td>\n",
       "      <td>The email thread discusses the Master Terminat...</td>\n",
       "      <td>FW: Master Termination Log</td>\n",
       "      <td>2002-01-31 12:50:00</td>\n",
       "      <td>Theriot, Kim S. KTHERIO</td>\n",
       "      <td>['Murphy', 'Melissa Mmurphy', 'Gossett', 'Jeff...</td>\n",
       "      <td>\\r\\n\\r\\n -----Original Message-----\\r\\nFrom: =...</td>\n",
       "    </tr>\n",
       "  </tbody>\n",
       "</table>\n",
       "</div>"
      ],
      "text/plain": [
       "   thread_id                                            summary  \\\n",
       "0          1  The email thread discusses the Master Terminat...   \n",
       "1          1  The email thread discusses the Master Terminat...   \n",
       "\n",
       "                      subject            timestamp  \\\n",
       "0  FW: Master Termination Log  2002-01-29 11:23:42   \n",
       "1  FW: Master Termination Log  2002-01-31 12:50:00   \n",
       "\n",
       "                          from  \\\n",
       "0  Gossett, Jeffrey C. JGOSSET   \n",
       "1      Theriot, Kim S. KTHERIO   \n",
       "\n",
       "                                                  to  \\\n",
       "0  ['Giron', 'Darron C. Dgiron', 'Love', 'Phillip...   \n",
       "1  ['Murphy', 'Melissa Mmurphy', 'Gossett', 'Jeff...   \n",
       "\n",
       "                                                body  \n",
       "0  \\r\\n\\r\\n -----Original Message-----\\r\\nFrom: =...  \n",
       "1  \\r\\n\\r\\n -----Original Message-----\\r\\nFrom: =...  "
      ]
     },
     "execution_count": 4,
     "metadata": {},
     "output_type": "execute_result"
    }
   ],
   "source": [
    "df.head(2)"
   ]
  },
  {
   "cell_type": "code",
   "execution_count": 5,
   "metadata": {},
   "outputs": [
    {
     "data": {
      "text/html": [
       "<div>\n",
       "<style scoped>\n",
       "    .dataframe tbody tr th:only-of-type {\n",
       "        vertical-align: middle;\n",
       "    }\n",
       "\n",
       "    .dataframe tbody tr th {\n",
       "        vertical-align: top;\n",
       "    }\n",
       "\n",
       "    .dataframe thead th {\n",
       "        text-align: right;\n",
       "    }\n",
       "</style>\n",
       "<table border=\"1\" class=\"dataframe\">\n",
       "  <thead>\n",
       "    <tr style=\"text-align: right;\">\n",
       "      <th></th>\n",
       "      <th>thread_id</th>\n",
       "      <th>combined_text</th>\n",
       "    </tr>\n",
       "  </thead>\n",
       "  <tbody>\n",
       "    <tr>\n",
       "      <th>0</th>\n",
       "      <td>1</td>\n",
       "      <td>\\r\\n\\r\\n -----Original Message-----\\r\\nFrom: =...</td>\n",
       "    </tr>\n",
       "    <tr>\n",
       "      <th>1</th>\n",
       "      <td>2</td>\n",
       "      <td>I'll be there... I will attend. Suzanne:\\r\\nHe...</td>\n",
       "    </tr>\n",
       "    <tr>\n",
       "      <th>2</th>\n",
       "      <td>3</td>\n",
       "      <td>Hey there; \\r\\n\"Do you know who your \"big toe\"...</td>\n",
       "    </tr>\n",
       "    <tr>\n",
       "      <th>3</th>\n",
       "      <td>4</td>\n",
       "      <td>thanks for the update.\\r\\nPL that is ok.  Than...</td>\n",
       "    </tr>\n",
       "    <tr>\n",
       "      <th>4</th>\n",
       "      <td>5</td>\n",
       "      <td>I think you can send it just so he has the for...</td>\n",
       "    </tr>\n",
       "    <tr>\n",
       "      <th>...</th>\n",
       "      <td>...</td>\n",
       "      <td>...</td>\n",
       "    </tr>\n",
       "    <tr>\n",
       "      <th>4162</th>\n",
       "      <td>4163</td>\n",
       "      <td>FYI.\\r\\n---------------------- Forwarded by Ka...</td>\n",
       "    </tr>\n",
       "    <tr>\n",
       "      <th>4163</th>\n",
       "      <td>4164</td>\n",
       "      <td>Can you send him a hard copy (He is w Constell...</td>\n",
       "    </tr>\n",
       "    <tr>\n",
       "      <th>4164</th>\n",
       "      <td>4165</td>\n",
       "      <td>I don't see you on MSN, but I am on the phone ...</td>\n",
       "    </tr>\n",
       "    <tr>\n",
       "      <th>4165</th>\n",
       "      <td>4166</td>\n",
       "      <td>I'm planning to be out August 28 - Sept 1. I a...</td>\n",
       "    </tr>\n",
       "    <tr>\n",
       "      <th>4166</th>\n",
       "      <td>4167</td>\n",
       "      <td>Amanda,\\r\\n\\r\\nCan you put this file in the ap...</td>\n",
       "    </tr>\n",
       "  </tbody>\n",
       "</table>\n",
       "<p>4167 rows × 2 columns</p>\n",
       "</div>"
      ],
      "text/plain": [
       "      thread_id                                      combined_text\n",
       "0             1  \\r\\n\\r\\n -----Original Message-----\\r\\nFrom: =...\n",
       "1             2  I'll be there... I will attend. Suzanne:\\r\\nHe...\n",
       "2             3  Hey there; \\r\\n\"Do you know who your \"big toe\"...\n",
       "3             4  thanks for the update.\\r\\nPL that is ok.  Than...\n",
       "4             5  I think you can send it just so he has the for...\n",
       "...         ...                                                ...\n",
       "4162       4163  FYI.\\r\\n---------------------- Forwarded by Ka...\n",
       "4163       4164  Can you send him a hard copy (He is w Constell...\n",
       "4164       4165  I don't see you on MSN, but I am on the phone ...\n",
       "4165       4166  I'm planning to be out August 28 - Sept 1. I a...\n",
       "4166       4167  Amanda,\\r\\n\\r\\nCan you put this file in the ap...\n",
       "\n",
       "[4167 rows x 2 columns]"
      ]
     },
     "execution_count": 5,
     "metadata": {},
     "output_type": "execute_result"
    }
   ],
   "source": [
    "# Group by thread_id and combine text\n",
    "combined_df = df.groupby('thread_id')['body'].apply(lambda x: ' '.join(x)).reset_index(name='combined_text')\n",
    "combined_df"
   ]
  },
  {
   "cell_type": "code",
   "execution_count": 6,
   "metadata": {},
   "outputs": [
    {
     "data": {
      "text/html": [
       "<div>\n",
       "<style scoped>\n",
       "    .dataframe tbody tr th:only-of-type {\n",
       "        vertical-align: middle;\n",
       "    }\n",
       "\n",
       "    .dataframe tbody tr th {\n",
       "        vertical-align: top;\n",
       "    }\n",
       "\n",
       "    .dataframe thead th {\n",
       "        text-align: right;\n",
       "    }\n",
       "</style>\n",
       "<table border=\"1\" class=\"dataframe\">\n",
       "  <thead>\n",
       "    <tr style=\"text-align: right;\">\n",
       "      <th></th>\n",
       "      <th>thread_id</th>\n",
       "      <th>combined_text</th>\n",
       "      <th>summary</th>\n",
       "    </tr>\n",
       "  </thead>\n",
       "  <tbody>\n",
       "    <tr>\n",
       "      <th>0</th>\n",
       "      <td>1</td>\n",
       "      <td>\\r\\n\\r\\n -----Original Message-----\\r\\nFrom: =...</td>\n",
       "      <td>The email thread discusses the Master Terminat...</td>\n",
       "    </tr>\n",
       "    <tr>\n",
       "      <th>1</th>\n",
       "      <td>2</td>\n",
       "      <td>I'll be there... I will attend. Suzanne:\\r\\nHe...</td>\n",
       "      <td>A lunch meeting has been scheduled for May 5th...</td>\n",
       "    </tr>\n",
       "    <tr>\n",
       "      <th>2</th>\n",
       "      <td>3</td>\n",
       "      <td>Hey there; \\r\\n\"Do you know who your \"big toe\"...</td>\n",
       "      <td>Ben is updating a friend on his progress with ...</td>\n",
       "    </tr>\n",
       "    <tr>\n",
       "      <th>3</th>\n",
       "      <td>4</td>\n",
       "      <td>thanks for the update.\\r\\nPL that is ok.  Than...</td>\n",
       "      <td>The recipient of the email thread initially ex...</td>\n",
       "    </tr>\n",
       "    <tr>\n",
       "      <th>4</th>\n",
       "      <td>5</td>\n",
       "      <td>I think you can send it just so he has the for...</td>\n",
       "      <td>The email thread discusses the long form confi...</td>\n",
       "    </tr>\n",
       "    <tr>\n",
       "      <th>...</th>\n",
       "      <td>...</td>\n",
       "      <td>...</td>\n",
       "      <td>...</td>\n",
       "    </tr>\n",
       "    <tr>\n",
       "      <th>4162</th>\n",
       "      <td>4163</td>\n",
       "      <td>FYI.\\r\\n---------------------- Forwarded by Ka...</td>\n",
       "      <td>Peter Thompson has sent a memo to Kay Mann and...</td>\n",
       "    </tr>\n",
       "    <tr>\n",
       "      <th>4163</th>\n",
       "      <td>4164</td>\n",
       "      <td>Can you send him a hard copy (He is w Constell...</td>\n",
       "      <td>The email thread revolves around the sharing a...</td>\n",
       "    </tr>\n",
       "    <tr>\n",
       "      <th>4164</th>\n",
       "      <td>4165</td>\n",
       "      <td>I don't see you on MSN, but I am on the phone ...</td>\n",
       "      <td>Susan asks Emily about her plans for the weeke...</td>\n",
       "    </tr>\n",
       "    <tr>\n",
       "      <th>4165</th>\n",
       "      <td>4166</td>\n",
       "      <td>I'm planning to be out August 28 - Sept 1. I a...</td>\n",
       "      <td>Several employees will be on vacation during d...</td>\n",
       "    </tr>\n",
       "    <tr>\n",
       "      <th>4166</th>\n",
       "      <td>4167</td>\n",
       "      <td>Amanda,\\r\\n\\r\\nCan you put this file in the ap...</td>\n",
       "      <td>Mat has sent an email to Amanda requesting her...</td>\n",
       "    </tr>\n",
       "  </tbody>\n",
       "</table>\n",
       "<p>4167 rows × 3 columns</p>\n",
       "</div>"
      ],
      "text/plain": [
       "      thread_id                                      combined_text  \\\n",
       "0             1  \\r\\n\\r\\n -----Original Message-----\\r\\nFrom: =...   \n",
       "1             2  I'll be there... I will attend. Suzanne:\\r\\nHe...   \n",
       "2             3  Hey there; \\r\\n\"Do you know who your \"big toe\"...   \n",
       "3             4  thanks for the update.\\r\\nPL that is ok.  Than...   \n",
       "4             5  I think you can send it just so he has the for...   \n",
       "...         ...                                                ...   \n",
       "4162       4163  FYI.\\r\\n---------------------- Forwarded by Ka...   \n",
       "4163       4164  Can you send him a hard copy (He is w Constell...   \n",
       "4164       4165  I don't see you on MSN, but I am on the phone ...   \n",
       "4165       4166  I'm planning to be out August 28 - Sept 1. I a...   \n",
       "4166       4167  Amanda,\\r\\n\\r\\nCan you put this file in the ap...   \n",
       "\n",
       "                                                summary  \n",
       "0     The email thread discusses the Master Terminat...  \n",
       "1     A lunch meeting has been scheduled for May 5th...  \n",
       "2     Ben is updating a friend on his progress with ...  \n",
       "3     The recipient of the email thread initially ex...  \n",
       "4     The email thread discusses the long form confi...  \n",
       "...                                                 ...  \n",
       "4162  Peter Thompson has sent a memo to Kay Mann and...  \n",
       "4163  The email thread revolves around the sharing a...  \n",
       "4164  Susan asks Emily about her plans for the weeke...  \n",
       "4165  Several employees will be on vacation during d...  \n",
       "4166  Mat has sent an email to Amanda requesting her...  \n",
       "\n",
       "[4167 rows x 3 columns]"
      ]
     },
     "execution_count": 6,
     "metadata": {},
     "output_type": "execute_result"
    }
   ],
   "source": [
    "combined_df = pd.merge(combined_df, df[['thread_id', 'summary']].drop_duplicates(), on = 'thread_id', how = 'left')\n",
    "combined_df"
   ]
  },
  {
   "cell_type": "code",
   "execution_count": 61,
   "metadata": {},
   "outputs": [
    {
     "data": {
      "text/plain": [
       "'\\r\\n\\r\\n -----Original Message-----\\r\\nFrom: =09Theriot, Kim S. =20\\r\\nSent:=09Tuesday, January 29, 2002 1:23 PM\\r\\nTo:=09Richardson, Stacey; Anderson, Diane; Gossett, Jeffrey C.; White, Stac=\\r\\ney W.; Murphy, Melissa; Hall, D. Todd; Sweeney, Kevin\\r\\nCc:=09Aucoin, Evelyn; Baxter, Bryce; Wynne, Rita\\r\\nSubject:=09FW: Master Termination Log\\r\\n\\r\\n\\r\\n\\r\\n -----Original Message-----\\r\\nFrom: =09Panus, Stephanie =20\\r\\nSent:=09Tuesday, January 29, 2002 11:39 AM\\r\\nTo:=09Adams, Laurel; Alonso, Tom; Aronowitz, Alan; Bailey, Susan; Balfour-F=\\r\\nlanagan, Cyndie; Baughman, Edward; Belden, Tim; Bishop, Serena; Brackett, D=\\r\\nebbie R.; Bradford, William S.; Browning, Mary Nell; Bruce, James; Bruce, M=\\r\\nichelle; Bruce, Robert; Buerkle, Jim; Calger, Christopher F.; Carrington, C=\\r\\nlara; Considine, Keith; Cordova, Karen A.; Crandall, Sean; Cutsforth, Diane=\\r\\n; Diamond, Russell; Dunton, Heather; Edison, Susan; Elafandi, Mo; Fischer, =\\r\\nMark; Flores, Nony; Fondren, Mark; Gorny, Vladimir; Gorte, David; Gresham, =\\r\\nWayne; Hagelmann, Bjorn; Hall, Steve C. (Legal); Harkness, Cynthia; Hendry,=\\r\\n Brent; Johnston, Greg; Keohane, Peter; Lindeman, Cheryl; Little, Kelli; Ma=\\r\\nllory, Chris; Mann, Kay; Mcginnis, Stephanie; McGrory, Robert; McMichael Jr=\\r\\n., Ed; Miller, Don (Asset Mktg); Moore, Janet H.; Moran, Tom; Murphy, Harla=\\r\\nn; Murray, Julia; Nemec, Gerald; Ogden, Mary; Otto, Randy; Page, Jonalan; P=\\r\\nostlethwaite, John; Prejean, Frank; Presto, Kevin M.; Puchot, Paul; Rasmuss=\\r\\nen, Dale; Richter, Brad; Richter, Jeff; Robison, Michael A.; Rohauer, Tanya=\\r\\n; Rosman, Stewart; Runswick, Stacy; Sacks, Edward; Scholtes, Diana; Shackle=\\r\\nton, Sara; Simons, Paul; Swinney, John; Thapar, Raj; Theriot, Kim S.; Thoma=\\r\\ns, Jake; Thome, Stephen; Tricoli, Carl; Van Hooser, Steve; Wente, Laura; Wi=\\r\\nlson, Shona; Winfree, O\\'Neal D.; Woodland, Andrea; Yoder, Christian\\r\\nSubject:=09Master Termination Log\\r\\n\\r\\nAttached is the Daily Termination List for January 25 as well as the Master=\\r\\n Termination Log, which incorporates all terminations received through Janu=\\r\\nary 25.\\r\\n\\r\\n =20\\r\\n\\r\\nThe following were previously on the Master Termination Log and have now be=\\r\\nen marked as \"Y\" for a valid termination:\\r\\n\\r\\nAtlantic Coast Fibers, Inc.=09=09=09ENA=09=09pulp/paper transactions\\r\\nCNC-Containers Corporation=09=09=09EPMI=09=09master power agreement\\r\\nPublic Utility District No. 1 of Chelan County=09EPMI=09=09deal no. 757497.=\\r\\n01\\r\\nConnect Energy Services, Inc.=09=09=09ENA=09=09liquids agreement\\r\\nNGL Supply, Inc. (including Premier=09=09ENA/EGLI=09physical & financial tr=\\r\\nansactions referenced\\r\\nEnergy Partners, a division of NGL Supply, Inc.)\\r\\nPlains Marketing, L.P.=09=09=09=09ERAC=09=09deal no. QG4563.1\\r\\nPlains Marketing, L.P.=09=09=09=09ERAC=09=09deal no. QG4482.2\\r\\n\\r\\nStephanie Panus\\r\\nEnron Wholesale Services\\r\\nph:  713.345.3249\\r\\nfax:  713.646.3490 \\r\\n\\r\\n -----Original Message-----\\r\\nFrom: =09Panus, Stephanie =20\\r\\nSent:=09Thursday, January 31, 2002 12:08 PM\\r\\nTo:=09Adams, Laurel; Albrecht, Kristin; Alonso, Tom; Aronowitz, Alan; Baile=\\r\\ny, Susan; Balfour-Flanagan, Cyndie; Baughman, Edward; Belden, Tim; Bishop, =\\r\\nSerena; Boyd, Samantha; Brackett, Debbie R.; Bradford, William S.; Browning=\\r\\n, Mary Nell; Bruce, James; Bruce, Michelle; Bruce, Robert; Buerkle, Jim; Ca=\\r\\nlger, Christopher F.; Carrington, Clara; Considine, Keith; Cordova, Karen A=\\r\\n.; Crandall, Sean; Cutsforth, Diane; Diamond, Russell; Dunton, Heather; Edi=\\r\\nson, Susan; Elafandi, Mo; Fischer, Mark; Flores, Nony; Fondren, Mark; Gorny=\\r\\n, Vladimir; Gorte, David; Gresham, Wayne; Hagelmann, Bjorn; Hall, Steve C. =\\r\\n(Legal); Harkness, Cynthia; Hendry, Brent; Johnston, Greg; Keohane, Peter; =\\r\\nLindeman, Cheryl; Mallory, Chris; Mann, Kay; Mcginnis, Stephanie; McGrory, =\\r\\nRobert; McMichael Jr., Ed; Miller, Don (Asset Mktg); Moore, Janet H.; Moran=\\r\\n, Tom; Murphy, Harlan; Murray, Julia; Nemec, Gerald; Ogden, Mary; Page, Jon=\\r\\nalan; Postlethwaite, John; Prejean, Frank; Presto, Kevin M.; Puchot, Paul; =\\r\\nRasmussen, Dale; Richardson, Stacey; Richter, Brad; Richter, Jeff; Robison,=\\r\\n Michael A.; Rohauer, Tanya; Rosman, Stewart; Sacks, Edward; Scholtes, Dian=\\r\\na; Sevitz, Robert; Shackleton, Sara; Simons, Paul; Swinney, John; Thapar, R=\\r\\naj; Theriot, Kim S.; Thomas, Jake; Thome, Stephen; Tricoli, Carl; Van Hoose=\\r\\nr, Steve; Wente, Laura; Wilson, Shona; Winfree, O\\'Neal D.; Woodland, Andrea=\\r\\n; Yoder, Christian\\r\\nSubject:=09Master Termination Log\\r\\n\\r\\nAttached are the Daily Lists for January 29 and January 30 as well as the M=\\r\\naster Termination Log, which incorporates all terminations received through=\\r\\n January 30.  Also, prepetition mutual terminations have been added to this=\\r\\n list.  They are identified under \"Nature of Default\" as \"mutual terminatio=\\r\\nn\".\\r\\n\\r\\n  =20\\r\\n\\r\\nStephanie Panus\\r\\nEnron Wholesale Services\\r\\nph:  713.345.3249\\r\\nfax:  713.646.3490 Note to Stephanie Panus....\\r\\n\\r\\nStephanie...please remove my name as well as Melissa Murphy\\'s from the dist=\\r\\nribution list below.\\r\\n\\r\\nPlease add the following:\\r\\n\\r\\nTodd D. Hall\\r\\nKevin Sweeney\\r\\nRita Wynne\\r\\nRebecca Grace\\r\\nRhonda Robinson\\r\\nKerri Thomspon\\r\\nKristin Albrecht\\r\\nTom Chapman\\r\\n\\r\\n\\r\\nThanks!\\r\\n\\r\\nKim Theriot\\r\\n\\r\\n -----Original Message-----\\r\\nFrom: =09Panus, Stephanie =20\\r\\nSent:=09Tuesday, February 05, 2002 8:18 AM\\r\\nTo:=09Adams, Laurel; Albrecht, Kristin; Alonso, Tom; Aronowitz, Alan; Baile=\\r\\ny, Susan; Balfour-Flanagan, Cyndie; Baughman, Edward; Belden, Tim; Bishop, =\\r\\nSerena; Boyd, Samantha; Brackett, Debbie R.; Bradford, William S.; Browning=\\r\\n, Mary Nell; Bruce, James; Bruce, Michelle; Bruce, Robert; Buerkle, Jim; Ca=\\r\\nlger, Christopher F.; Carrington, Clara; Chilkina, Elena; Considine, Keith;=\\r\\n Cordova, Karen A.; Crandall, Sean; Cutsforth, Diane; Diamond, Russell; Dun=\\r\\nton, Heather; Edison, Susan; Elafandi, Mo; Fischer, Mark; Flores, Nony; Fon=\\r\\ndren, Mark; Gorny, Vladimir; Gorte, David; Gresham, Wayne; Hagelmann, Bjorn=\\r\\n; Hall, Steve C. (Legal); Harkness, Cynthia; Hendry, Brent; Johnston, Greg;=\\r\\n Keohane, Peter; Lindeman, Cheryl; Mallory, Chris; Mann, Kay; Mcginnis, Ste=\\r\\nphanie; McGrory, Robert; McMichael Jr., Ed; Miller, Don (Asset Mktg); Moore=\\r\\n, Janet H.; Moran, Tom; Murphy, Harlan; Murray, Julia; Nemec, Gerald; Ogden=\\r\\n, Mary; Page, Jonalan; Postlethwaite, John; Prejean, Frank; Presto, Kevin M=\\r\\n.; Puchot, Paul; Rasmussen, Dale; Richardson, Stacey; Richter, Brad; Richte=\\r\\nr, Jeff; Robison, Michael A.; Rohauer, Tanya; Rosman, Stewart; Sacks, Edwar=\\r\\nd; Scholtes, Diana; Sevitz, Robert; Shackleton, Sara; Simons, Paul; Swinney=\\r\\n, John; Thapar, Raj; Theriot, Kim S.; Thomas, Jake; Thome, Stephen; Tricoli=\\r\\n, Carl; Van Hooser, Steve; Wente, Laura; Wilson, Shona; Winfree, O\\'Neal D.;=\\r\\n Woodland, Andrea; Yoder, Christian\\r\\nSubject:=09Master Termination Log\\r\\n\\r\\nAttached is the Daily List for January 31 as well as the Master Termination=\\r\\n Log, which incorporates all terminations received through January 31.\\r\\n\\r\\n =20\\r\\n\\r\\nStephanie Panus\\r\\nEnron Wholesale Services\\r\\nph:  713.345.3249\\r\\nfax:  713.646.3490 \\r\\n\\r\\n -----Original Message-----\\r\\nFrom: =09Panus, Stephanie =20\\r\\nSent:=09Tuesday, February 05, 2002 4:59 PM\\r\\nTo:=09Adams, Laurel; Albrecht, Kristin; Alonso, Tom; Aronowitz, Alan; Baile=\\r\\ny, Susan; Balfour-Flanagan, Cyndie; Baughman, Edward; Belden, Tim; Bishop, =\\r\\nSerena; Boyd, Samantha; Brackett, Debbie R.; Bradford, William S.; Browning=\\r\\n, Mary Nell; Bruce, James; Bruce, Michelle; Bruce, Robert; Buerkle, Jim; Ca=\\r\\nlger, Christopher F.; Carrington, Clara; Chilkina, Elena; Considine, Keith;=\\r\\n Cordova, Karen A.; Crandall, Sean; Cutsforth, Diane; Diamond, Russell; Dun=\\r\\nton, Heather; Edison, Susan; Elafandi, Mo; Fischer, Mark; Flores, Nony; Fon=\\r\\ndren, Mark; Glover, Sheila; Gorny, Vladimir; Gorte, David; Gresham, Wayne; =\\r\\nHagelmann, Bjorn; Hall, Steve C. (Legal); Harkness, Cynthia; Hendry, Brent;=\\r\\n Johnston, Greg; Keohane, Peter; Lindeman, Cheryl; Mallory, Chris; Mann, Ka=\\r\\ny; Mcginnis, Stephanie; McGrory, Robert; McMichael Jr., Ed; Miller, Don (As=\\r\\nset Mktg); Moore, Janet H.; Moran, Tom; Murphy, Harlan; Murray, Julia; Neme=\\r\\nc, Gerald; Ogden, Mary; Page, Jonalan; Postlethwaite, John; Prejean, Frank;=\\r\\n Presto, Kevin M.; Puchot, Paul; Rasmussen, Dale; Richardson, Stacey; Richt=\\r\\ner, Brad; Richter, Jeff; Robison, Michael A.; Rohauer, Tanya; Rosman, Stewa=\\r\\nrt; Sacks, Edward; Scholtes, Diana; Sevitz, Robert; Shackleton, Sara; Simon=\\r\\ns, Paul; Swinney, John; Thapar, Raj; Theriot, Kim S.; Thomas, Jake; Thome, =\\r\\nStephen; Tricoli, Carl; Van Hooser, Steve; Wente, Laura; Wilson, Shona; Win=\\r\\nfree, O\\'Neal D.; Woodland, Andrea; Yoder, Christian\\r\\nSubject:=09Master Termination Log\\r\\n\\r\\nAttached is the Daily List for February 4 as well as the Master Termination=\\r\\n Log, which incorporates all termination received through February 4 (with =\\r\\nthe exception of February 1, which is under legal review and contains all f=\\r\\ninancial transactions).\\r\\n\\r\\n =20\\r\\n\\r\\nStephanie Panus\\r\\nEnron Wholesale Services\\r\\nph:  713.345.3249\\r\\nfax:  713.646.3490 \\r\\n\\r\\n -----Original Message-----\\r\\nFrom: =09McMichael Jr., Ed =20\\r\\nSent:=09Tuesday, May 28, 2002 8:15 AM\\r\\nTo:=09Lagrasta, Fred; Kelly, Katherine L.; Versen, Victoria\\r\\nSubject:=09FW: Master Termination Log\\r\\n\\r\\nPlease look into the CNG LDC (Hope Gas) termination 12/1 and the $66 MM set=\\r\\ntlement offer that is listed on the Letter Log below.  Let me know what tha=\\r\\nt is after you figure it out.  If you have any questions, please ask.\\r\\nEd  =20\\r\\n\\r\\n -----Original Message-----\\r\\nFrom: =09Panus, Stephanie =20\\r\\nSent:=09Friday, May 24, 2002 3:49 PM\\r\\nTo:=09Adams, Laurel; Alon, Heather; Apollo, Beth; Arnold, Matthew; Aronowit=\\r\\nz, Alan; Bailey, Susan; Balfour-Flanagan, Cyndie; Barbe, Robin; Baughman, E=\\r\\ndward; Berryman, Kyle; Bolt, Laurel; Botello, Rose; Boudreau, Kara; Brennig=\\r\\n, Tammy; Bridges, Michael; Bruck, Sarah; Camarillo, Juan; Coleman, David; C=\\r\\nomeaux, Clinton; Concannon, Ruth; Cordova, Karen A.; Couch, Greg; Danaher, =\\r\\nPatrick; Darmitzel, Paul; Del vecchio, Peter; Despres, Dan; Dicarlo, Louis;=\\r\\n Edison, Susan; Elafandi, Mo; Fay, Ashley; Flores, Nony; Fowler, Kulvinder;=\\r\\n Garza, Maria; Germany, Chris; Gonzalez, Victor; Gorte, David; Grace, Rebec=\\r\\nca M.; Guillen, Andrea R.; Hagelmann, Bjorn; Haralson, Nancy L; Harkness, C=\\r\\nynthia; Herrera, Olga; Heuertz, Kelly; Hoang, Charlie; Johnson, Luchas; Kel=\\r\\nler, James E.; Lagrasta, Fred; Leuschen, Sam; Lindeman, Cheryl; Lowry, Donn=\\r\\na; Mann, Kay; Matheson, A.k.; Mausser, Gregory A.; McClure, Zakiyyah; McMic=\\r\\nhael Jr., Ed; Miller, Don (Asset Mktg); Moore, Janet H.; Moscoso, Michael E=\\r\\n.; Muench, Gayle W.; Murphy, Harlan; Murray, Julia; Nelson, Michelle; Polsk=\\r\\ny, Phil; Prejean, Frank; Puchot, Paul; Richard, Robert; Richardson, Stacey;=\\r\\n Roberson, Weezie ; Robison, Michael A.; Sacchi, Martin; Sayre, Frank; Sevi=\\r\\ntz, Robert; Shackleton, Sara; Sharma, Shifali; Shivers, Lynn; Shoup, Cynthi=\\r\\na; Smida, Ed; Stai, Aaron ; Sweeney, Kevin; Thapar, Raj; Thibaut, Dan; Tric=\\r\\noli, Carl; Versen, Victoria; Ward, Charles; Wilson, Shona; Wolgel, Fred\\r\\nSubject:=09Master Termination Log\\r\\n\\r\\nAttached is the Daily List for May 24, 2002 as well as the Master Terminati=\\r\\non Log, which incorporates all terminations received through May 24.\\r\\n\\r\\n =20\\r\\n\\r\\nStephanie Panus\\r\\nEnron Wholesale Services\\r\\nph:  713.345.3249\\r\\nfax:  713.646.3490'"
      ]
     },
     "execution_count": 61,
     "metadata": {},
     "output_type": "execute_result"
    }
   ],
   "source": [
    "email_list = [text for text in combined_df['combined_text']]\n",
    "email_list[0]"
   ]
  },
  {
   "cell_type": "code",
   "execution_count": 8,
   "metadata": {},
   "outputs": [],
   "source": [
    "# Define a function for preprocessing with lemmatization\n",
    "def preprocess_with_lemmatization(text):\n",
    "    # Tokenize the text into words\n",
    "    words = word_tokenize(text)\n",
    "    \n",
    "    # Remove stop words\n",
    "    stop_words = set(stopwords.words(\"english\"))\n",
    "    words = [word for word in words if word.lower() not in stop_words]\n",
    "    \n",
    "    # Lemmatize the words\n",
    "    lemmatizer = WordNetLemmatizer()\n",
    "    lemmatized_words = [lemmatizer.lemmatize(word, pos='v') for word in words]  # Lemmatize verbs\n",
    "    \n",
    "    # Join the lemmatized words back into text\n",
    "    preprocessed_text = \" \".join(lemmatized_words)\n",
    "    \n",
    "    return preprocessed_text"
   ]
  },
  {
   "cell_type": "code",
   "execution_count": 9,
   "metadata": {},
   "outputs": [],
   "source": [
    "# Preprocess the emails using lemmatization\n",
    "preprocessed_emails = [preprocess_with_lemmatization(email) for email in email_list]"
   ]
  },
  {
   "cell_type": "code",
   "execution_count": 60,
   "metadata": {},
   "outputs": [
    {
     "data": {
      "text/plain": [
       "\"-- -- -Original Message -- -- - : =09Theriot , Kim S. =20 Sent : =09Tuesday , January 29 , 2002 1:23 PM : =09Richardson , Stacey ; Anderson , Diane ; Gossett , Jeffrey C. ; White , Stac= ey W. ; Murphy , Melissa ; Hall , D. Todd ; Sweeney , Kevin Cc : =09Aucoin , Evelyn ; Baxter , Bryce ; Wynne , Rita Subject : =09FW : Master Termination Log -- -- -Original Message -- -- - : =09Panus , Stephanie =20 Sent : =09Tuesday , January 29 , 2002 11:39 : =09Adams , Laurel ; Alonso , Tom ; Aronowitz , Alan ; Bailey , Susan ; Balfour-F= lanagan , Cyndie ; Baughman , Edward ; Belden , Tim ; Bishop , Serena ; Brackett , D= ebbie R. ; Bradford , William S. ; Browning , Mary Nell ; Bruce , James ; Bruce , M= ichelle ; Bruce , Robert ; Buerkle , Jim ; Calger , Christopher F. ; Carrington , C= lara ; Considine , Keith ; Cordova , Karen A. ; Crandall , Sean ; Cutsforth , Diane= ; Diamond , Russell ; Dunton , Heather ; Edison , Susan ; Elafandi , Mo ; Fischer , = Mark ; Flores , Nony ; Fondren , Mark ; Gorny , Vladimir ; Gorte , David ; Gresham , = Wayne ; Hagelmann , Bjorn ; Hall , Steve C. ( Legal ) ; Harkness , Cynthia ; Hendry , = Brent ; Johnston , Greg ; Keohane , Peter ; Lindeman , Cheryl ; Little , Kelli ; Ma= llory , Chris ; Mann , Kay ; Mcginnis , Stephanie ; McGrory , Robert ; McMichael Jr= . , Ed ; Miller , ( Asset Mktg ) ; Moore , Janet H. ; Moran , Tom ; Murphy , Harla= n ; Murray , Julia ; Nemec , Gerald ; Ogden , Mary ; Otto , Randy ; Page , Jonalan ; P= ostlethwaite , John ; Prejean , Frank ; Presto , Kevin M. ; Puchot , Paul ; Rasmuss= en , Dale ; Richter , Brad ; Richter , Jeff ; Robison , Michael A. ; Rohauer , Tanya= ; Rosman , Stewart ; Runswick , Stacy ; Sacks , Edward ; Scholtes , Diana ; Shackle= ton , Sara ; Simons , Paul ; Swinney , John ; Thapar , Raj ; Theriot , Kim S. ; Thoma= , Jake ; Thome , Stephen ; Tricoli , Carl ; Van Hooser , Steve ; Wente , Laura ; Wi= lson , Shona ; Winfree , O'Neal D. ; Woodland , Andrea ; Yoder , Christian Subject : =09Master Termination Log Attached Daily Termination List January 25 well Master= Termination Log , incorporate terminations receive Janu= ary 25 . =20 follow previously Master Termination Log be= en mark `` '' valid termination : Atlantic Coast Fibers , Inc.=09=09=09ENA=09=09pulp/paper transactions CNC-Containers Corporation=09=09=09EPMI=09=09master power agreement Public Utility District . 1 Chelan County=09EPMI=09=09deal . 757497.= 01 Connect Energy Services , Inc.=09=09=09ENA=09=09liquids agreement NGL Supply , Inc. ( include Premier=09=09ENA/EGLI=09physical & financial tr= ansactions reference Energy Partners , division NGL Supply , Inc. ) Plains Marketing , L.P.=09=09=09=09ERAC=09=09deal . QG4563.1 Plains Marketing , L.P.=09=09=09=09ERAC=09=09deal . QG4482.2 Stephanie Panus Enron Wholesale Services ph : 713.345.3249 fax : 713.646.3490 -- -- -Original Message -- -- - : =09Panus , Stephanie =20 Sent : =09Thursday , January 31 , 2002 12:08 PM : =09Adams , Laurel ; Albrecht , Kristin ; Alonso , Tom ; Aronowitz , Alan ; Baile= , Susan ; Balfour-Flanagan , Cyndie ; Baughman , Edward ; Belden , Tim ; Bishop , = Serena ; Boyd , Samantha ; Brackett , Debbie R. ; Bradford , William S. ; Browning= , Mary Nell ; Bruce , James ; Bruce , Michelle ; Bruce , Robert ; Buerkle , Jim ; Ca= lger , Christopher F. ; Carrington , Clara ; Considine , Keith ; Cordova , Karen A= . ; Crandall , Sean ; Cutsforth , Diane ; Diamond , Russell ; Dunton , Heather ; Edi= son , Susan ; Elafandi , Mo ; Fischer , Mark ; Flores , Nony ; Fondren , Mark ; Gorny= , Vladimir ; Gorte , David ; Gresham , Wayne ; Hagelmann , Bjorn ; Hall , Steve C. = ( Legal ) ; Harkness , Cynthia ; Hendry , Brent ; Johnston , Greg ; Keohane , Peter ; = Lindeman , Cheryl ; Mallory , Chris ; Mann , Kay ; Mcginnis , Stephanie ; McGrory , = Robert ; McMichael Jr. , Ed ; Miller , ( Asset Mktg ) ; Moore , Janet H. ; Moran= , Tom ; Murphy , Harlan ; Murray , Julia ; Nemec , Gerald ; Ogden , Mary ; Page , Jon= alan ; Postlethwaite , John ; Prejean , Frank ; Presto , Kevin M. ; Puchot , Paul ; = Rasmussen , Dale ; Richardson , Stacey ; Richter , Brad ; Richter , Jeff ; Robison , = Michael A. ; Rohauer , Tanya ; Rosman , Stewart ; Sacks , Edward ; Scholtes , Dian= ; Sevitz , Robert ; Shackleton , Sara ; Simons , Paul ; Swinney , John ; Thapar , R= aj ; Theriot , Kim S. ; Thomas , Jake ; Thome , Stephen ; Tricoli , Carl ; Van Hoose= r , Steve ; Wente , Laura ; Wilson , Shona ; Winfree , O'Neal D. ; Woodland , Andrea= ; Yoder , Christian Subject : =09Master Termination Log Attached Daily Lists January 29 January 30 well M= aster Termination Log , incorporate terminations receive through= January 30 . Also , prepetition mutual terminations add this= list . identify `` Nature Default '' `` mutual terminatio= n '' . =20 Stephanie Panus Enron Wholesale Services ph : 713.345.3249 fax : 713.646.3490 Note Stephanie Panus .... Stephanie ... please remove name well Melissa Murphy 's dist= ribution list . Please add follow : Todd D. Hall Kevin Sweeney Rita Wynne Rebecca Grace Rhonda Robinson Kerri Thomspon Kristin Albrecht Tom Chapman Thanks ! Kim Theriot -- -- -Original Message -- -- - : =09Panus , Stephanie =20 Sent : =09Tuesday , February 05 , 2002 8:18 : =09Adams , Laurel ; Albrecht , Kristin ; Alonso , Tom ; Aronowitz , Alan ; Baile= , Susan ; Balfour-Flanagan , Cyndie ; Baughman , Edward ; Belden , Tim ; Bishop , = Serena ; Boyd , Samantha ; Brackett , Debbie R. ; Bradford , William S. ; Browning= , Mary Nell ; Bruce , James ; Bruce , Michelle ; Bruce , Robert ; Buerkle , Jim ; Ca= lger , Christopher F. ; Carrington , Clara ; Chilkina , Elena ; Considine , Keith ; = Cordova , Karen A. ; Crandall , Sean ; Cutsforth , Diane ; Diamond , Russell ; Dun= ton , Heather ; Edison , Susan ; Elafandi , Mo ; Fischer , Mark ; Flores , Nony ; Fon= dren , Mark ; Gorny , Vladimir ; Gorte , David ; Gresham , Wayne ; Hagelmann , Bjorn= ; Hall , Steve C. ( Legal ) ; Harkness , Cynthia ; Hendry , Brent ; Johnston , Greg ; = Keohane , Peter ; Lindeman , Cheryl ; Mallory , Chris ; Mann , Kay ; Mcginnis , Ste= phanie ; McGrory , Robert ; McMichael Jr. , Ed ; Miller , ( Asset Mktg ) ; Moore= , Janet H. ; Moran , Tom ; Murphy , Harlan ; Murray , Julia ; Nemec , Gerald ; Ogden= , Mary ; Page , Jonalan ; Postlethwaite , John ; Prejean , Frank ; Presto , Kevin M= . ; Puchot , Paul ; Rasmussen , Dale ; Richardson , Stacey ; Richter , Brad ; Richte= r , Jeff ; Robison , Michael A. ; Rohauer , Tanya ; Rosman , Stewart ; Sacks , Edwar= ; Scholtes , Diana ; Sevitz , Robert ; Shackleton , Sara ; Simons , Paul ; Swinney= , John ; Thapar , Raj ; Theriot , Kim S. ; Thomas , Jake ; Thome , Stephen ; Tricoli= , Carl ; Van Hooser , Steve ; Wente , Laura ; Wilson , Shona ; Winfree , O'Neal D. ; = Woodland , Andrea ; Yoder , Christian Subject : =09Master Termination Log Attached Daily List January 31 well Master Termination= Log , incorporate terminations receive January 31 . =20 Stephanie Panus Enron Wholesale Services ph : 713.345.3249 fax : 713.646.3490 -- -- -Original Message -- -- - : =09Panus , Stephanie =20 Sent : =09Tuesday , February 05 , 2002 4:59 PM : =09Adams , Laurel ; Albrecht , Kristin ; Alonso , Tom ; Aronowitz , Alan ; Baile= , Susan ; Balfour-Flanagan , Cyndie ; Baughman , Edward ; Belden , Tim ; Bishop , = Serena ; Boyd , Samantha ; Brackett , Debbie R. ; Bradford , William S. ; Browning= , Mary Nell ; Bruce , James ; Bruce , Michelle ; Bruce , Robert ; Buerkle , Jim ; Ca= lger , Christopher F. ; Carrington , Clara ; Chilkina , Elena ; Considine , Keith ; = Cordova , Karen A. ; Crandall , Sean ; Cutsforth , Diane ; Diamond , Russell ; Dun= ton , Heather ; Edison , Susan ; Elafandi , Mo ; Fischer , Mark ; Flores , Nony ; Fon= dren , Mark ; Glover , Sheila ; Gorny , Vladimir ; Gorte , David ; Gresham , Wayne ; = Hagelmann , Bjorn ; Hall , Steve C. ( Legal ) ; Harkness , Cynthia ; Hendry , Brent ; = Johnston , Greg ; Keohane , Peter ; Lindeman , Cheryl ; Mallory , Chris ; Mann , Ka= ; Mcginnis , Stephanie ; McGrory , Robert ; McMichael Jr. , Ed ; Miller , ( As= set Mktg ) ; Moore , Janet H. ; Moran , Tom ; Murphy , Harlan ; Murray , Julia ; Neme= c , Gerald ; Ogden , Mary ; Page , Jonalan ; Postlethwaite , John ; Prejean , Frank ; = Presto , Kevin M. ; Puchot , Paul ; Rasmussen , Dale ; Richardson , Stacey ; Richt= er , Brad ; Richter , Jeff ; Robison , Michael A. ; Rohauer , Tanya ; Rosman , Stewa= rt ; Sacks , Edward ; Scholtes , Diana ; Sevitz , Robert ; Shackleton , Sara ; Simon= , Paul ; Swinney , John ; Thapar , Raj ; Theriot , Kim S. ; Thomas , Jake ; Thome , = Stephen ; Tricoli , Carl ; Van Hooser , Steve ; Wente , Laura ; Wilson , Shona ; Win= free , O'Neal D. ; Woodland , Andrea ; Yoder , Christian Subject : =09Master Termination Log Attached Daily List February 4 well Master Termination= Log , incorporate termination receive February 4 ( = exception February 1 , legal review contain f= inancial transactions ) . =20 Stephanie Panus Enron Wholesale Services ph : 713.345.3249 fax : 713.646.3490 -- -- -Original Message -- -- - : =09McMichael Jr. , Ed =20 Sent : =09Tuesday , May 28 , 2002 8:15 : =09Lagrasta , Fred ; Kelly , Katherine L. ; Versen , Victoria Subject : =09FW : Master Termination Log Please look CNG LDC ( Hope Gas ) termination 12/1 $ 66 MM set= tlement offer list Letter Log . Let know tha= figure . question , please ask . Ed =20 -- -- -Original Message -- -- - : =09Panus , Stephanie =20 Sent : =09Friday , May 24 , 2002 3:49 PM : =09Adams , Laurel ; Alon , Heather ; Apollo , Beth ; Arnold , Matthew ; Aronowit= z , Alan ; Bailey , Susan ; Balfour-Flanagan , Cyndie ; Barbe , Robin ; Baughman , E= dward ; Berryman , Kyle ; Bolt , Laurel ; Botello , Rose ; Boudreau , Kara ; Brennig= , Tammy ; Bridges , Michael ; Bruck , Sarah ; Camarillo , Juan ; Coleman , David ; C= omeaux , Clinton ; Concannon , Ruth ; Cordova , Karen A. ; Couch , Greg ; Danaher , = Patrick ; Darmitzel , Paul ; Del vecchio , Peter ; Despres , Dan ; Dicarlo , Louis ; = Edison , Susan ; Elafandi , Mo ; Fay , Ashley ; Flores , Nony ; Fowler , Kulvinder ; = Garza , Maria ; Germany , Chris ; Gonzalez , Victor ; Gorte , David ; Grace , Rebec= ca M. ; Guillen , Andrea R. ; Hagelmann , Bjorn ; Haralson , Nancy L ; Harkness , C= ynthia ; Herrera , Olga ; Heuertz , Kelly ; Hoang , Charlie ; Johnson , Luchas ; Kel= ler , James E. ; Lagrasta , Fred ; Leuschen , Sam ; Lindeman , Cheryl ; Lowry , Donn= ; Mann , Kay ; Matheson , A.k . ; Mausser , Gregory A. ; McClure , Zakiyyah ; McMic= hael Jr. , Ed ; Miller , ( Asset Mktg ) ; Moore , Janet H. ; Moscoso , Michael E= . ; Muench , Gayle W. ; Murphy , Harlan ; Murray , Julia ; Nelson , Michelle ; Polsk= , Phil ; Prejean , Frank ; Puchot , Paul ; Richard , Robert ; Richardson , Stacey ; = Roberson , Weezie ; Robison , Michael A. ; Sacchi , Martin ; Sayre , Frank ; Sevi= tz , Robert ; Shackleton , Sara ; Sharma , Shifali ; Shivers , Lynn ; Shoup , Cynthi= ; Smida , Ed ; Stai , Aaron ; Sweeney , Kevin ; Thapar , Raj ; Thibaut , Dan ; Tric= oli , Carl ; Versen , Victoria ; Ward , Charles ; Wilson , Shona ; Wolgel , Fred Subject : =09Master Termination Log Attached Daily List May 24 , 2002 well Master Terminati= Log , incorporate terminations receive May 24 . =20 Stephanie Panus Enron Wholesale Services ph : 713.345.3249 fax : 713.646.3490\""
      ]
     },
     "execution_count": 60,
     "metadata": {},
     "output_type": "execute_result"
    }
   ],
   "source": [
    "preprocessed_emails[0]"
   ]
  },
  {
   "cell_type": "markdown",
   "metadata": {},
   "source": [
    "## Modelling\n",
    "\n",
    "TFiDF\n",
    "Clustering"
   ]
  },
  {
   "cell_type": "code",
   "execution_count": 11,
   "metadata": {},
   "outputs": [
    {
     "name": "stderr",
     "output_type": "stream",
     "text": [
      "[nltk_data] Downloading package punkt to\n",
      "[nltk_data]     C:\\Users\\samyukta\\AppData\\Roaming\\nltk_data...\n",
      "[nltk_data]   Package punkt is already up-to-date!\n"
     ]
    }
   ],
   "source": [
    "import numpy as np\n",
    "from sklearn.feature_extraction.text import TfidfVectorizer\n",
    "from nltk.tokenize import sent_tokenize\n",
    "import nltk\n",
    "nltk.download('punkt')  # Ensure the 'punkt' tokenizer models are downloaded\n",
    "\n",
    "# Tokenize each email into sentences\n",
    "emails_sentences = [sent_tokenize(email) for email in preprocessed_emails]\n",
    "\n",
    "# Flatten the list of sentences across all emails for TF-IDF\n",
    "all_sentences = [sentence for email in emails_sentences for sentence in email]\n",
    "\n",
    "# Compute TF-IDF for all sentences\n",
    "tfidf_vectorizer = TfidfVectorizer()\n",
    "tfidf_matrix = tfidf_vectorizer.fit_transform(all_sentences)\n",
    "\n",
    "# Placeholder for summaries\n",
    "summary_list = []\n",
    "\n",
    "for email, sentences in zip(preprocessed_emails, emails_sentences):\n",
    "    # Transform the sentences of the current email to get their TF-IDF representation\n",
    "    sentence_tfidf = tfidf_vectorizer.transform(sentences)\n",
    "    \n",
    "    # Calculate average TF-IDF score for each sentence\n",
    "    avg_tfidf_scores = np.mean(sentence_tfidf.toarray(), axis=1)\n",
    "    \n",
    "    # Select indices of sentences with the highest TF-IDF scores\n",
    "    # Adjust the number of sentences as needed for the summary\n",
    "    num_sentences = min(5, len(sentences))  # For example, top 5 sentences or less if the email is short\n",
    "    top_sentence_indices = np.argsort(avg_tfidf_scores)[-num_sentences:]\n",
    "    \n",
    "    # Create the summary by joining the top sentences\n",
    "    summary = ' '.join([sentences[idx] for idx in sorted(top_sentence_indices)])\n",
    "    summary_list.append(summary)"
   ]
  },
  {
   "cell_type": "markdown",
   "metadata": {},
   "source": [
    "## Evaluation"
   ]
  },
  {
   "cell_type": "code",
   "execution_count": 58,
   "metadata": {},
   "outputs": [
    {
     "data": {
      "text/plain": [
       "\"The email thread discusses the Master Termination Log and the need to investigate a CNG LDC (Hope Gas) termination and a $66 million settlement offer. Stephanie Panus sends out the Daily List and Master Termination Log for various dates. Kim Theriot requests her name and Melissa Murphy's name to be removed from the distribution list and adds several names to it. The thread also includes updates on terminations and valid terminations for various companies.\""
      ]
     },
     "execution_count": 58,
     "metadata": {},
     "output_type": "execute_result"
    }
   ],
   "source": [
    "original_summ = [text for text in combined_df['summary']]\n",
    "original_summ[0]"
   ]
  },
  {
   "cell_type": "code",
   "execution_count": 55,
   "metadata": {},
   "outputs": [
    {
     "name": "stdout",
     "output_type": "stream",
     "text": [
      "{'rouge-1': {'r': 0.18422990676946885, 'p': 0.15169145874113643, 'f': 0.15740302866728578}, 'rouge-2': {'r': 0.03727749125950121, 'p': 0.02848241253037934, 'f': 0.02992919383943061}, 'rouge-l': {'r': 0.17539146865888927, 'p': 0.14451540830137063, 'f': 0.14986437825085558}}\n"
     ]
    }
   ],
   "source": [
    "# Import necessary libraries\n",
    "import sys\n",
    "from rouge import Rouge\n",
    "import time\n",
    "\n",
    "# Adjusting the recursion limit to prevent RecursionError during deep comparisons\n",
    "sys.setrecursionlimit(3000)\n",
    "\n",
    "# Due to Recursion Error, splitting into chunks & increased limit\n",
    "iters = len(original_summ)//100 # Number of iterations needed, based on data size\n",
    "total_scores = [] # List to hold all calculated ROUGE scores\n",
    "\n",
    "# Iterate through chunks of summaries to compute ROUGE scores\n",
    "for i in range(iters):\n",
    "    # Compute the scores\n",
    "    try:\n",
    "        rouge = Rouge() # Initialize the Rouge scoring object\n",
    "        # Calculate ROUGE scores for the current chunk\n",
    "        scores = rouge.get_scores(summary_list[100*i:100*(i+1)], original_summ[100*i:100*(i+1)], avg=True)\n",
    "        total_scores.append(scores) # Append the scores for this chunk to the total scores list\n",
    "    except RecursionError:\n",
    "        time.sleep(10) # Wait for 10 seconds and continue, to handle recursion limit issues\n",
    "        continue \n",
    "\n",
    "# Handle any remaining summaries after the chunked processing    \n",
    "rouge = Rouge() # Re-initialize the Rouge scoring object\n",
    "scores = rouge.get_scores(summary_list[100*(i+1):], original_summ[100*(i+1):], avg=True)\n",
    "total_scores.append(scores)\n",
    "\n",
    "# Initialize a dictionary to calculate average ROUGE scores\n",
    "avg_scores = {'rouge-1': {'r': 0, 'p': 0, 'f': 0},\n",
    "                'rouge-2': {'r': 0, 'p': 0, 'f': 0},\n",
    "                'rouge-l': {'r': 0, 'p': 0, 'f': 0}}\n",
    "\n",
    "# Accumulate scores from each chunk to compute the average\n",
    "for score in total_scores:\n",
    "    for metric in score.keys():  \n",
    "        avg_scores[metric]['r'] += score[metric]['r']\n",
    "        avg_scores[metric]['p'] += score[metric]['p']\n",
    "        avg_scores[metric]['f'] += score[metric]['f']\n",
    "\n",
    "# Calculate the average scores by dividing by the number of chunks (i+2 accounts for the final partial chunk)\n",
    "for metric in avg_scores:\n",
    "    avg_scores[metric]['r'] /= (i+2)\n",
    "    avg_scores[metric]['p'] /= (i+2)\n",
    "    avg_scores[metric]['f'] /= (i+2)\n",
    "\n",
    "# Print the average ROUGE scores\n",
    "print(avg_scores)"
   ]
  },
  {
   "cell_type": "code",
   "execution_count": 63,
   "metadata": {},
   "outputs": [
    {
     "name": "stdout",
     "output_type": "stream",
     "text": [
      "Average Precision: 0.3720662593841553\n",
      "Average Recall: 0.46384432911872864\n",
      "Average F1: 0.410055547952652\n"
     ]
    }
   ],
   "source": [
    "# Import the BERTScore score function\n",
    "from bert_score import score\n",
    "\n",
    "# Evaluating BERTScore for a subset of 100 email summaries due to computational constraints\n",
    "# summary_list contains the generated summaries\n",
    "# original_summ contains the reference summaries\n",
    "# We select a random subset (for example, the 600th to 700th summaries) for evaluation\n",
    "P, R, F1 = score(summary_list[600:700], original_summ[600:700], lang=\"en\", model_type=\"bert-base-uncased\")\n",
    "\n",
    "# Calculate the average of the precision, recall, and F1 score tensors\n",
    "# .mean().item() computes the mean of the tensor and converts it to a Python float\n",
    "avg_precision = P.mean().item()\n",
    "avg_recall = R.mean().item()\n",
    "avg_f1 = F1.mean().item()\n",
    "\n",
    "# Print the average BERTScore metrics for the evaluated subset\n",
    "print(\"Average Precision:\", avg_precision)\n",
    "print(\"Average Recall:\", avg_recall)\n",
    "print(\"Average F1:\", avg_f1)"
   ]
  },
  {
   "cell_type": "code",
   "execution_count": 1,
   "metadata": {},
   "outputs": [
    {
     "name": "stderr",
     "output_type": "stream",
     "text": [
      "d:\\Duke\\Sem2\\DLA\\EmailSummarization\\EmailSummarization\\.venv\\Lib\\site-packages\\tqdm\\auto.py:21: TqdmWarning: IProgress not found. Please update jupyter and ipywidgets. See https://ipywidgets.readthedocs.io/en/stable/user_install.html\n",
      "  from .autonotebook import tqdm as notebook_tqdm\n"
     ]
    },
    {
     "name": "stdout",
     "output_type": "stream",
     "text": [
      "0.3.12\n"
     ]
    }
   ],
   "source": [
    "import bert_score\n",
    "print(bert_score.__version__)"
   ]
  }
 ],
 "metadata": {
  "kernelspec": {
   "display_name": ".venv",
   "language": "python",
   "name": "python3"
  },
  "language_info": {
   "codemirror_mode": {
    "name": "ipython",
    "version": 3
   },
   "file_extension": ".py",
   "mimetype": "text/x-python",
   "name": "python",
   "nbconvert_exporter": "python",
   "pygments_lexer": "ipython3",
   "version": "3.11.5"
  }
 },
 "nbformat": 4,
 "nbformat_minor": 2
}
