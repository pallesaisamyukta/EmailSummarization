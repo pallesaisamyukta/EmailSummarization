{
 "cells": [
  {
   "cell_type": "markdown",
   "metadata": {},
   "source": [
    "## Import Libraries"
   ]
  },
  {
   "cell_type": "code",
   "execution_count": 7,
   "metadata": {},
   "outputs": [],
   "source": [
    "import textwrap\n",
    "import json\n",
    "import base64\n",
    "import os.path\n",
    "from google.auth.transport.requests import Request\n",
    "from google.oauth2.credentials import Credentials\n",
    "from google_auth_oauthlib.flow import InstalledAppFlow\n",
    "from googleapiclient.discovery import build\n",
    "from googleapiclient.errors import HttpError\n",
    "from datetime import datetime, timedelta"
   ]
  },
  {
   "cell_type": "markdown",
   "metadata": {},
   "source": [
    "## Extracting mails"
   ]
  },
  {
   "cell_type": "markdown",
   "metadata": {},
   "source": [
    "1. Build GMAIL API by using credentials in gmail_api_desktop_credentials.json\n",
    "2. Based on the query retrieve the mails in a list.\n",
    "\n",
    "In our case query is last week unread mails"
   ]
  },
  {
   "cell_type": "code",
   "execution_count": 8,
   "metadata": {},
   "outputs": [],
   "source": [
    "class GmailAPI:\n",
    "    \"\"\"\n",
    "    Class to interact with the Gmail API.\n",
    "    \"\"\"\n",
    "\n",
    "    SCOPES = [\"https://www.googleapis.com/auth/gmail.readonly\"]\n",
    "\n",
    "    def __init__(self, token_file=\"../data/output/token.json\", credentials_file=\"../data/input/gmail_api_desktop_credentials.json\"):\n",
    "        \"\"\"\n",
    "        Initializes the GmailAPI object.\n",
    "        \"\"\"\n",
    "        self.token_file = token_file\n",
    "        self.credentials_file = credentials_file\n",
    "        self.service = None  # Initialize service as None\n",
    "\n",
    "    def connect_api(self):\n",
    "        \"\"\"\n",
    "        Connects to the Gmail API and sets the service object.\n",
    "        \"\"\"\n",
    "        creds = None\n",
    "        if os.path.exists(self.token_file):\n",
    "            creds = Credentials.from_authorized_user_file(self.token_file, self.SCOPES)\n",
    "\n",
    "        if not creds or not creds.valid:\n",
    "            if creds and creds.expired and creds.refresh_token:\n",
    "                creds.refresh(Request())\n",
    "            else:\n",
    "                flow = InstalledAppFlow.from_client_secrets_file(\n",
    "                    self.credentials_file, self.SCOPES\n",
    "                )\n",
    "                creds = flow.run_local_server(port=0)\n",
    "\n",
    "            with open(self.token_file, \"w\") as token:\n",
    "                token.write(creds.to_json())\n",
    "\n",
    "        try:\n",
    "            # Call the Gmail API\n",
    "            self.service = build(\"gmail\", \"v1\", credentials=creds)\n",
    "\n",
    "        except HttpError as error:\n",
    "            print(f\"An error occurred: {error}\")\n",
    "\n",
    "    def retrieve_mails(self, query):\n",
    "        \"\"\"\n",
    "        Retrieves unread emails from Gmail based on the provided query.\n",
    "        Returns a list of email content.\n",
    "        \"\"\"\n",
    "        if not self.service:\n",
    "            print(\"Service not connected. Call connect_api() first.\")\n",
    "            return []\n",
    "\n",
    "        email_content = []\n",
    "\n",
    "        # Retrieve unread emails\n",
    "        results = self.service.users().messages().list(userId='me', q=query).execute()\n",
    "        unread_messages = results.get('messages', [])\n",
    "        \n",
    "        # Process each unread email\n",
    "        for message in unread_messages:\n",
    "            email_content_str = \"\"\n",
    "            msg_id = message['id']\n",
    "            message = self.service.users().messages().get(userId='me', id=msg_id, format='full').execute()\n",
    "            \n",
    "            # Extract the payload of the message\n",
    "            payload = message['payload']\n",
    "            parts = payload.get('parts', [])\n",
    "            # Iterate through the parts to find the text/plain part\n",
    "            for part in parts:\n",
    "                if part['mimeType'] == 'text/plain':\n",
    "                    data = part['body']['data']\n",
    "                    # Decode and append the text content\n",
    "                    decoded_data = base64.urlsafe_b64decode(data).decode('utf-8')\n",
    "                    if decoded_data:\n",
    "                        email_content_str += decoded_data + \" \"\n",
    "                    break  # Stop iterating if text/plain part is found\n",
    "            \n",
    "            if email_content_str:\n",
    "                email_content.append(email_content_str)\n",
    "        \n",
    "        return email_content"
   ]
  },
  {
   "cell_type": "code",
   "execution_count": 9,
   "metadata": {},
   "outputs": [],
   "source": [
    "gmail_api = GmailAPI()\n",
    "gmail_api.connect_api()\n",
    "\n",
    "# Calculate the date one week ago from today\n",
    "one_week_ago = (datetime.utcnow() - timedelta(days=7)).strftime('%Y/%m/%d')\n",
    "\n",
    "# Construct the search query to retrieve emails received after one week ago\n",
    "query = f\"is:unread after:{one_week_ago}\"\n",
    "email_content = gmail_api.retrieve_mails(query)"
   ]
  },
  {
   "cell_type": "markdown",
   "metadata": {},
   "source": [
    "### Saving the content"
   ]
  },
  {
   "cell_type": "code",
   "execution_count": 10,
   "metadata": {},
   "outputs": [
    {
     "data": {
      "text/plain": [
       "32"
      ]
     },
     "execution_count": 10,
     "metadata": {},
     "output_type": "execute_result"
    }
   ],
   "source": [
    "len(email_content)"
   ]
  },
  {
   "cell_type": "code",
   "execution_count": 11,
   "metadata": {},
   "outputs": [
    {
     "name": "stdout",
     "output_type": "stream",
     "text": [
      "Kaggle                  Hi Sai Samyukta Palle,    It's Leap Day, and to\n",
      "celebrate, Google Cloud Next is offering 65% off with    promo code NEXT699LEAP\n",
      "today!* 🙌 The conference is happening in Las Vegas    on April 9 - 11 and is\n",
      "packed with ML and AI programming, including a lot    of amazing Kaggle-focused\n",
      "content.            For example:      Workshops with Kaggle Grandmasters like\n",
      "David Austen (recent 1st place    winner in our LLM – Detect AI Generated Text\n",
      "competition) & Ruchi Bhatia    (youngest 3x Kaggle Grandmaster)  Sessions with\n",
      "prominent researchers who've launched groundbreaking Kaggle    competitions like\n",
      "Rhiju Das (Stanford professor behind the Ribonanza RNA    Folding competition &\n",
      "COVID-19 mRNA Vaccine Degradation Prediction    competition)  AMA with the\n",
      "Kaggle team including our CEO, D. Sculley  In-person Kaggle competition with fun\n",
      "prizes 🎉        Register Here        A full lineup of all the Kaggle-focused\n",
      "magic at the event is coming your    way soon! We really hope to see you there.\n",
      "The Kaggle Team        *Space is limited, and this price is only valid with the\n",
      "promotional code    through 11:59 PM PT on February 29, 2024, or until sold out.\n",
      "Kaggle, Inc 1600 Amphitheatre Pkwy Mountain View, CA 94043    This email was\n",
      "sent to pallesaisamyukta@gmail.com because you indicated    that you'd like to\n",
      "receive news and updates about Kaggle. If you don't want    to receive these\n",
      "emails in the future, please unsubscribe here. You can    also change your\n",
      "preferences on your account's profile page by logging in    at kaggle.com.\n"
     ]
    }
   ],
   "source": [
    "wrapped_text = textwrap.fill(email_content[2], width=80)\n",
    "print(wrapped_text)"
   ]
  },
  {
   "cell_type": "code",
   "execution_count": 12,
   "metadata": {},
   "outputs": [],
   "source": [
    "# File path where you want to save the data\n",
    "file_path = \"../data/output/data.json\"\n",
    "\n",
    "# Write the list to a JSON file\n",
    "with open(file_path, \"w\") as file:\n",
    "    json.dump(email_content, file)"
   ]
  },
  {
   "cell_type": "code",
   "execution_count": null,
   "metadata": {},
   "outputs": [],
   "source": []
  }
 ],
 "metadata": {
  "kernelspec": {
   "display_name": ".venv",
   "language": "python",
   "name": "python3"
  },
  "language_info": {
   "codemirror_mode": {
    "name": "ipython",
    "version": 3
   },
   "file_extension": ".py",
   "mimetype": "text/x-python",
   "name": "python",
   "nbconvert_exporter": "python",
   "pygments_lexer": "ipython3",
   "version": "3.11.5"
  }
 },
 "nbformat": 4,
 "nbformat_minor": 2
}
